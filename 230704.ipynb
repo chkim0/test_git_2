{
 "cells": [
  {
   "cell_type": "code",
   "execution_count": 1,
   "id": "c37ff3b8",
   "metadata": {},
   "outputs": [
    {
     "name": "stdout",
     "output_type": "stream",
     "text": [
      "hello, world!\n"
     ]
    }
   ],
   "source": [
    "print('hello, world!')"
   ]
  },
  {
   "cell_type": "code",
   "execution_count": 3,
   "id": "05bfe05a",
   "metadata": {},
   "outputs": [],
   "source": [
    "##자료형"
   ]
  },
  {
   "cell_type": "code",
   "execution_count": 4,
   "id": "e813d213-21b2-436d-9025-4f96cc4e8b23",
   "metadata": {},
   "outputs": [],
   "source": [
    "x = 123"
   ]
  },
  {
   "cell_type": "code",
   "execution_count": 7,
   "id": "6ea99df8-8907-4807-96e5-3f6e36f874c4",
   "metadata": {},
   "outputs": [
    {
     "data": {
      "text/plain": [
       "123"
      ]
     },
     "execution_count": 7,
     "metadata": {},
     "output_type": "execute_result"
    }
   ],
   "source": [
    "x"
   ]
  },
  {
   "cell_type": "code",
   "execution_count": 9,
   "id": "4fc08585-7e32-4037-a7a8-582b25f8b9db",
   "metadata": {},
   "outputs": [
    {
     "data": {
      "text/plain": [
       "int"
      ]
     },
     "execution_count": 9,
     "metadata": {},
     "output_type": "execute_result"
    }
   ],
   "source": [
    "type(x)"
   ]
  },
  {
   "cell_type": "code",
   "execution_count": 10,
   "id": "cf95096b-2823-46b9-8e47-c7058bfdaf23",
   "metadata": {},
   "outputs": [],
   "source": [
    "##파이썬의 연산자"
   ]
  },
  {
   "cell_type": "code",
   "execution_count": 11,
   "id": "0e56b30a-d3ed-4722-b47b-8cff8df0dc84",
   "metadata": {},
   "outputs": [
    {
     "data": {
      "text/plain": [
       "123"
      ]
     },
     "execution_count": 11,
     "metadata": {},
     "output_type": "execute_result"
    }
   ],
   "source": [
    "x"
   ]
  },
  {
   "cell_type": "code",
   "execution_count": 12,
   "id": "2fbc83db-2057-4af7-b5c3-0e5ffe7c71c5",
   "metadata": {},
   "outputs": [
    {
     "data": {
      "text/plain": [
       "579"
      ]
     },
     "execution_count": 12,
     "metadata": {},
     "output_type": "execute_result"
    }
   ],
   "source": [
    "x+ 456"
   ]
  },
  {
   "cell_type": "code",
   "execution_count": 13,
   "id": "1baba366-80db-4bc9-ae1d-503eab223d19",
   "metadata": {},
   "outputs": [
    {
     "data": {
      "text/plain": [
       "15129"
      ]
     },
     "execution_count": 13,
     "metadata": {},
     "output_type": "execute_result"
    }
   ],
   "source": [
    "x ** 2"
   ]
  },
  {
   "cell_type": "code",
   "execution_count": 14,
   "id": "936a0f51-7abe-4f43-90b6-22ca8d651617",
   "metadata": {},
   "outputs": [
    {
     "data": {
      "text/plain": [
       "3"
      ]
     },
     "execution_count": 14,
     "metadata": {},
     "output_type": "execute_result"
    }
   ],
   "source": [
    "x % 5"
   ]
  },
  {
   "cell_type": "code",
   "execution_count": 15,
   "id": "67e1690d-5c4f-4bb3-9a17-b54efc0c9e27",
   "metadata": {},
   "outputs": [
    {
     "data": {
      "text/plain": [
       "False"
      ]
     },
     "execution_count": 15,
     "metadata": {},
     "output_type": "execute_result"
    }
   ],
   "source": [
    "x > 500"
   ]
  },
  {
   "cell_type": "code",
   "execution_count": 16,
   "id": "6b38c579-68e9-4ad7-a48b-3debe501dc67",
   "metadata": {},
   "outputs": [
    {
     "data": {
      "text/plain": [
       "True"
      ]
     },
     "execution_count": 16,
     "metadata": {},
     "output_type": "execute_result"
    }
   ],
   "source": [
    "x < 500"
   ]
  },
  {
   "cell_type": "code",
   "execution_count": 17,
   "id": "211f8b5c-6fb6-460c-8fbf-b3fb9388297d",
   "metadata": {},
   "outputs": [],
   "source": [
    "y = '999'"
   ]
  },
  {
   "cell_type": "code",
   "execution_count": 18,
   "id": "700ea9af-44a4-4845-9307-5fe943248d23",
   "metadata": {},
   "outputs": [
    {
     "data": {
      "text/plain": [
       "str"
      ]
     },
     "execution_count": 18,
     "metadata": {},
     "output_type": "execute_result"
    }
   ],
   "source": [
    "type(y)"
   ]
  },
  {
   "cell_type": "code",
   "execution_count": 19,
   "id": "6f09becd-a5b8-4eef-a0ab-af7370bf3557",
   "metadata": {},
   "outputs": [
    {
     "ename": "TypeError",
     "evalue": "can only concatenate str (not \"int\") to str",
     "output_type": "error",
     "traceback": [
      "\u001b[1;31m---------------------------------------------------------------------------\u001b[0m",
      "\u001b[1;31mTypeError\u001b[0m                                 Traceback (most recent call last)",
      "Cell \u001b[1;32mIn[19], line 1\u001b[0m\n\u001b[1;32m----> 1\u001b[0m \u001b[43my\u001b[49m\u001b[43m \u001b[49m\u001b[38;5;241;43m+\u001b[39;49m\u001b[43m \u001b[49m\u001b[38;5;241;43m50\u001b[39;49m\n",
      "\u001b[1;31mTypeError\u001b[0m: can only concatenate str (not \"int\") to str"
     ]
    }
   ],
   "source": [
    "y + 50 # 에러남 "
   ]
  },
  {
   "cell_type": "code",
   "execution_count": 20,
   "id": "74f97b61-2773-4607-aa34-ec79fe41c4b2",
   "metadata": {},
   "outputs": [
    {
     "data": {
      "text/plain": [
       "'99950'"
      ]
     },
     "execution_count": 20,
     "metadata": {},
     "output_type": "execute_result"
    }
   ],
   "source": [
    "y + '50'"
   ]
  },
  {
   "cell_type": "code",
   "execution_count": 21,
   "id": "9ef568ba-d261-40f1-8be5-2b723edda69f",
   "metadata": {},
   "outputs": [
    {
     "data": {
      "text/plain": [
       "'999'"
      ]
     },
     "execution_count": 21,
     "metadata": {},
     "output_type": "execute_result"
    }
   ],
   "source": [
    "y"
   ]
  },
  {
   "cell_type": "code",
   "execution_count": 22,
   "id": "d53fcf96-7eb6-4ebe-93d3-0d6293431024",
   "metadata": {},
   "outputs": [],
   "source": [
    "y = y + '50' "
   ]
  },
  {
   "cell_type": "code",
   "execution_count": 23,
   "id": "257c7a5c-cdaf-489f-8112-90aec3fe04f1",
   "metadata": {},
   "outputs": [
    {
     "data": {
      "text/plain": [
       "'99950'"
      ]
     },
     "execution_count": 23,
     "metadata": {},
     "output_type": "execute_result"
    }
   ],
   "source": [
    "y"
   ]
  },
  {
   "cell_type": "code",
   "execution_count": 24,
   "id": "38c3b781-42a8-4afc-bf57-a1068bda5860",
   "metadata": {},
   "outputs": [],
   "source": [
    "# 배열형태의 자료형은 덧셈, 곱셈가능 뺄셈 나눗셈은 안됨"
   ]
  },
  {
   "cell_type": "code",
   "execution_count": 25,
   "id": "0ae8c5a1-6ba3-4b3c-97c9-cd0380d0d056",
   "metadata": {},
   "outputs": [
    {
     "data": {
      "text/plain": [
       "'999509995099950'"
      ]
     },
     "execution_count": 25,
     "metadata": {},
     "output_type": "execute_result"
    }
   ],
   "source": [
    "y * 3"
   ]
  },
  {
   "cell_type": "code",
   "execution_count": 26,
   "id": "0e66ae7e-b586-4883-b1ec-b0d4ea10d8a1",
   "metadata": {},
   "outputs": [],
   "source": [
    "z = [1,2,3]"
   ]
  },
  {
   "cell_type": "code",
   "execution_count": 27,
   "id": "bfe8744d-e3ec-44c8-b057-0567ba89ceae",
   "metadata": {},
   "outputs": [
    {
     "data": {
      "text/plain": [
       "[1, 2, 3, 1, 2, 3, 1, 2, 3]"
      ]
     },
     "execution_count": 27,
     "metadata": {},
     "output_type": "execute_result"
    }
   ],
   "source": [
    "z * 3"
   ]
  },
  {
   "cell_type": "code",
   "execution_count": 28,
   "id": "b9647517-3454-4796-bb3e-14486fbce23d",
   "metadata": {},
   "outputs": [
    {
     "ename": "TypeError",
     "evalue": "can't multiply sequence by non-int of type 'list'",
     "output_type": "error",
     "traceback": [
      "\u001b[1;31m---------------------------------------------------------------------------\u001b[0m",
      "\u001b[1;31mTypeError\u001b[0m                                 Traceback (most recent call last)",
      "Cell \u001b[1;32mIn[28], line 1\u001b[0m\n\u001b[1;32m----> 1\u001b[0m \u001b[43mz\u001b[49m\u001b[43m \u001b[49m\u001b[38;5;241;43m*\u001b[39;49m\u001b[43m \u001b[49m\u001b[43mz\u001b[49m\n",
      "\u001b[1;31mTypeError\u001b[0m: can't multiply sequence by non-int of type 'list'"
     ]
    }
   ],
   "source": [
    "z * z"
   ]
  },
  {
   "cell_type": "code",
   "execution_count": 29,
   "id": "78b43c8f-ddf1-4855-a6b1-3320b2ecb5ac",
   "metadata": {},
   "outputs": [
    {
     "data": {
      "text/plain": [
       "[1, 2, 3, 5]"
      ]
     },
     "execution_count": 29,
     "metadata": {},
     "output_type": "execute_result"
    }
   ],
   "source": [
    "z + [5]"
   ]
  },
  {
   "cell_type": "code",
   "execution_count": 30,
   "id": "842e0fe2-324d-4a0b-9004-36bd1b444ea8",
   "metadata": {},
   "outputs": [
    {
     "data": {
      "text/plain": [
       "6588"
      ]
     },
     "execution_count": 30,
     "metadata": {},
     "output_type": "execute_result"
    }
   ],
   "source": [
    "1235 + 5353"
   ]
  },
  {
   "cell_type": "code",
   "execution_count": 31,
   "id": "067d4fbc-c049-4a46-b98c-33482286b9d6",
   "metadata": {},
   "outputs": [
    {
     "data": {
      "text/plain": [
       "9.29074805"
      ]
     },
     "execution_count": 31,
     "metadata": {},
     "output_type": "execute_result"
    }
   ],
   "source": [
    "3.5135 * 2.6443"
   ]
  },
  {
   "cell_type": "code",
   "execution_count": 32,
   "id": "efc62d4c-78c8-4581-9f04-c9dfb1f1274e",
   "metadata": {},
   "outputs": [
    {
     "data": {
      "text/plain": [
       "'hello world!!'"
      ]
     },
     "execution_count": 32,
     "metadata": {},
     "output_type": "execute_result"
    }
   ],
   "source": [
    "'hello world' + '!!'"
   ]
  },
  {
   "cell_type": "code",
   "execution_count": 33,
   "id": "4094f3e4-e2bb-4b2c-8566-0ec7b553ec71",
   "metadata": {},
   "outputs": [
    {
     "data": {
      "text/plain": [
       "[3, 73457, 434, 3, 73457, 434, 3, 73457, 434, 3, 73457, 434]"
      ]
     },
     "execution_count": 33,
     "metadata": {},
     "output_type": "execute_result"
    }
   ],
   "source": [
    "[3,73457,434]*4"
   ]
  },
  {
   "cell_type": "code",
   "execution_count": 34,
   "id": "88f97747-a8bc-43ee-9b64-f9385fbaebee",
   "metadata": {},
   "outputs": [
    {
     "ename": "TypeError",
     "evalue": "unsupported operand type(s) for -: 'tuple' and 'int'",
     "output_type": "error",
     "traceback": [
      "\u001b[1;31m---------------------------------------------------------------------------\u001b[0m",
      "\u001b[1;31mTypeError\u001b[0m                                 Traceback (most recent call last)",
      "Cell \u001b[1;32mIn[34], line 1\u001b[0m\n\u001b[1;32m----> 1\u001b[0m \u001b[43m(\u001b[49m\u001b[38;5;241;43m1\u001b[39;49m\u001b[43m,\u001b[49m\u001b[38;5;241;43m6\u001b[39;49m\u001b[43m,\u001b[49m\u001b[38;5;241;43m8\u001b[39;49m\u001b[43m,\u001b[49m\u001b[38;5;241;43m13\u001b[39;49m\u001b[43m)\u001b[49m\u001b[43m \u001b[49m\u001b[38;5;241;43m-\u001b[39;49m\u001b[43m(\u001b[49m\u001b[38;5;241;43m13\u001b[39;49m\u001b[43m)\u001b[49m\n",
      "\u001b[1;31mTypeError\u001b[0m: unsupported operand type(s) for -: 'tuple' and 'int'"
     ]
    }
   ],
   "source": [
    "(1,6,8,13) -(13)"
   ]
  },
  {
   "cell_type": "code",
   "execution_count": 35,
   "id": "2afd2ae1-5576-49d7-9399-e030d0792e23",
   "metadata": {},
   "outputs": [
    {
     "data": {
      "text/plain": [
       "{1, 5, 6}"
      ]
     },
     "execution_count": 35,
     "metadata": {},
     "output_type": "execute_result"
    }
   ],
   "source": [
    "{1,5,6,7} - {7}"
   ]
  },
  {
   "cell_type": "code",
   "execution_count": 36,
   "id": "da702aa4-dcf2-4a47-8ab1-f2a8e49e73ba",
   "metadata": {},
   "outputs": [
    {
     "data": {
      "text/plain": [
       "10j"
      ]
     },
     "execution_count": 36,
     "metadata": {},
     "output_type": "execute_result"
    }
   ],
   "source": [
    "5j * 2"
   ]
  },
  {
   "cell_type": "code",
   "execution_count": 37,
   "id": "10c83450-5fcf-4ae3-a98c-4c887e29d632",
   "metadata": {},
   "outputs": [
    {
     "ename": "TypeError",
     "evalue": "unsupported operand type(s) for //: 'complex' and 'int'",
     "output_type": "error",
     "traceback": [
      "\u001b[1;31m---------------------------------------------------------------------------\u001b[0m",
      "\u001b[1;31mTypeError\u001b[0m                                 Traceback (most recent call last)",
      "Cell \u001b[1;32mIn[37], line 1\u001b[0m\n\u001b[1;32m----> 1\u001b[0m \u001b[38;5;241;43m5\u001b[39;49m\u001b[43mj\u001b[49m\u001b[43m \u001b[49m\u001b[38;5;241;43m/\u001b[39;49m\u001b[38;5;241;43m/\u001b[39;49m\u001b[43m \u001b[49m\u001b[38;5;241;43m2\u001b[39;49m\n",
      "\u001b[1;31mTypeError\u001b[0m: unsupported operand type(s) for //: 'complex' and 'int'"
     ]
    }
   ],
   "source": [
    "5j // 2"
   ]
  },
  {
   "cell_type": "code",
   "execution_count": 38,
   "id": "25314e13-f576-4c78-a2f3-41a7ba54bbe5",
   "metadata": {},
   "outputs": [
    {
     "data": {
      "text/plain": [
       "2"
      ]
     },
     "execution_count": 38,
     "metadata": {},
     "output_type": "execute_result"
    }
   ],
   "source": [
    "5 // 2"
   ]
  },
  {
   "cell_type": "code",
   "execution_count": 39,
   "id": "3a5e9d43-d677-401a-9d37-927f8e038531",
   "metadata": {},
   "outputs": [
    {
     "data": {
      "text/plain": [
       "1"
      ]
     },
     "execution_count": 39,
     "metadata": {},
     "output_type": "execute_result"
    }
   ],
   "source": [
    "10 % 3"
   ]
  },
  {
   "cell_type": "code",
   "execution_count": 40,
   "id": "4f0a948f-0e22-41e5-b0de-1af7a9edc284",
   "metadata": {},
   "outputs": [],
   "source": [
    "x = 3.6635\n",
    "y = 10\n",
    "z = {2,3,4}"
   ]
  },
  {
   "cell_type": "code",
   "execution_count": 41,
   "id": "7cd40627-205f-42b6-8c67-becf2264c186",
   "metadata": {},
   "outputs": [
    {
     "data": {
      "text/plain": [
       "13.663499999999999"
      ]
     },
     "execution_count": 41,
     "metadata": {},
     "output_type": "execute_result"
    }
   ],
   "source": [
    "x + y"
   ]
  },
  {
   "cell_type": "code",
   "execution_count": 42,
   "id": "bf66893d-f280-4268-8ce5-62d0d552ed4a",
   "metadata": {},
   "outputs": [
    {
     "data": {
      "text/plain": [
       "float"
      ]
     },
     "execution_count": 42,
     "metadata": {},
     "output_type": "execute_result"
    }
   ],
   "source": [
    "type(x + y)"
   ]
  },
  {
   "cell_type": "code",
   "execution_count": 43,
   "id": "18ffd5fe-ba21-4249-9809-0b6748dcd032",
   "metadata": {},
   "outputs": [
    {
     "ename": "TypeError",
     "evalue": "unsupported operand type(s) for +: 'float' and 'set'",
     "output_type": "error",
     "traceback": [
      "\u001b[1;31m---------------------------------------------------------------------------\u001b[0m",
      "\u001b[1;31mTypeError\u001b[0m                                 Traceback (most recent call last)",
      "Cell \u001b[1;32mIn[43], line 1\u001b[0m\n\u001b[1;32m----> 1\u001b[0m \u001b[43mx\u001b[49m\u001b[43m \u001b[49m\u001b[38;5;241;43m+\u001b[39;49m\u001b[43m \u001b[49m\u001b[43mz\u001b[49m\n",
      "\u001b[1;31mTypeError\u001b[0m: unsupported operand type(s) for +: 'float' and 'set'"
     ]
    }
   ],
   "source": [
    "x + z"
   ]
  },
  {
   "cell_type": "code",
   "execution_count": 44,
   "id": "bdb26d21-099d-47ec-b772-110e4e09fe76",
   "metadata": {},
   "outputs": [],
   "source": [
    "z = [2, 3, 4]"
   ]
  },
  {
   "cell_type": "code",
   "execution_count": 45,
   "id": "bd2267d5-0c25-43b4-bf66-77cea62f74e7",
   "metadata": {},
   "outputs": [
    {
     "ename": "TypeError",
     "evalue": "can only concatenate list (not \"int\") to list",
     "output_type": "error",
     "traceback": [
      "\u001b[1;31m---------------------------------------------------------------------------\u001b[0m",
      "\u001b[1;31mTypeError\u001b[0m                                 Traceback (most recent call last)",
      "Cell \u001b[1;32mIn[45], line 1\u001b[0m\n\u001b[1;32m----> 1\u001b[0m \u001b[43mz\u001b[49m\u001b[43m \u001b[49m\u001b[38;5;241;43m+\u001b[39;49m\u001b[43m \u001b[49m\u001b[38;5;241;43m4\u001b[39;49m\n",
      "\u001b[1;31mTypeError\u001b[0m: can only concatenate list (not \"int\") to list"
     ]
    }
   ],
   "source": [
    "z + 4"
   ]
  },
  {
   "cell_type": "code",
   "execution_count": 46,
   "id": "073bdbce-cbb7-4188-a399-2a669927bb5d",
   "metadata": {},
   "outputs": [
    {
     "data": {
      "text/plain": [
       "[2,\n",
       " 3,\n",
       " 4,\n",
       " 2,\n",
       " 3,\n",
       " 4,\n",
       " 2,\n",
       " 3,\n",
       " 4,\n",
       " 2,\n",
       " 3,\n",
       " 4,\n",
       " 2,\n",
       " 3,\n",
       " 4,\n",
       " 2,\n",
       " 3,\n",
       " 4,\n",
       " 2,\n",
       " 3,\n",
       " 4,\n",
       " 2,\n",
       " 3,\n",
       " 4,\n",
       " 2,\n",
       " 3,\n",
       " 4,\n",
       " 2,\n",
       " 3,\n",
       " 4]"
      ]
     },
     "execution_count": 46,
     "metadata": {},
     "output_type": "execute_result"
    }
   ],
   "source": [
    "z * y"
   ]
  },
  {
   "cell_type": "code",
   "execution_count": 47,
   "id": "f49d48c8-b51e-426f-9f6e-23ed1f577ce4",
   "metadata": {},
   "outputs": [
    {
     "ename": "TypeError",
     "evalue": "can't multiply sequence by non-int of type 'float'",
     "output_type": "error",
     "traceback": [
      "\u001b[1;31m---------------------------------------------------------------------------\u001b[0m",
      "\u001b[1;31mTypeError\u001b[0m                                 Traceback (most recent call last)",
      "Cell \u001b[1;32mIn[47], line 1\u001b[0m\n\u001b[1;32m----> 1\u001b[0m \u001b[43mz\u001b[49m\u001b[43m \u001b[49m\u001b[38;5;241;43m*\u001b[39;49m\u001b[43m \u001b[49m\u001b[43mx\u001b[49m\n",
      "\u001b[1;31mTypeError\u001b[0m: can't multiply sequence by non-int of type 'float'"
     ]
    }
   ],
   "source": [
    "z * x "
   ]
  },
  {
   "cell_type": "code",
   "execution_count": 48,
   "id": "851cc76e-ed0d-44b5-9627-3626facc4fcc",
   "metadata": {},
   "outputs": [
    {
     "ename": "SyntaxError",
     "evalue": "invalid syntax (1395121884.py, line 1)",
     "output_type": "error",
     "traceback": [
      "\u001b[1;36m  Cell \u001b[1;32mIn[48], line 1\u001b[1;36m\u001b[0m\n\u001b[1;33m    type{}\u001b[0m\n\u001b[1;37m        ^\u001b[0m\n\u001b[1;31mSyntaxError\u001b[0m\u001b[1;31m:\u001b[0m invalid syntax\n"
     ]
    }
   ],
   "source": [
    "type{}"
   ]
  },
  {
   "cell_type": "code",
   "execution_count": 49,
   "id": "0e64909b-f130-45c7-a2ef-9eb19ed5e016",
   "metadata": {},
   "outputs": [
    {
     "data": {
      "text/plain": [
       "dict"
      ]
     },
     "execution_count": 49,
     "metadata": {},
     "output_type": "execute_result"
    }
   ],
   "source": [
    "type({})"
   ]
  },
  {
   "cell_type": "code",
   "execution_count": 50,
   "id": "addeec19-f295-4d61-be17-56c2df13adf0",
   "metadata": {},
   "outputs": [],
   "source": [
    "a = {2,3,4}"
   ]
  },
  {
   "cell_type": "code",
   "execution_count": 51,
   "id": "62427795-a0c7-4412-91d1-83facf6f6d3e",
   "metadata": {},
   "outputs": [
    {
     "data": {
      "text/plain": [
       "set"
      ]
     },
     "execution_count": 51,
     "metadata": {},
     "output_type": "execute_result"
    }
   ],
   "source": [
    "type(a)"
   ]
  },
  {
   "cell_type": "code",
   "execution_count": 52,
   "id": "4a1479ce-9b3e-4078-a9e8-be346c64f203",
   "metadata": {},
   "outputs": [
    {
     "ename": "TypeError",
     "evalue": "unsupported operand type(s) for *: 'set' and 'int'",
     "output_type": "error",
     "traceback": [
      "\u001b[1;31m---------------------------------------------------------------------------\u001b[0m",
      "\u001b[1;31mTypeError\u001b[0m                                 Traceback (most recent call last)",
      "Cell \u001b[1;32mIn[52], line 1\u001b[0m\n\u001b[1;32m----> 1\u001b[0m \u001b[43ma\u001b[49m\u001b[43m \u001b[49m\u001b[38;5;241;43m*\u001b[39;49m\u001b[43m \u001b[49m\u001b[38;5;241;43m3\u001b[39;49m\n",
      "\u001b[1;31mTypeError\u001b[0m: unsupported operand type(s) for *: 'set' and 'int'"
     ]
    }
   ],
   "source": [
    "a * 3"
   ]
  },
  {
   "cell_type": "code",
   "execution_count": 53,
   "id": "f5aa2118-1234-435e-a59f-389cb56fa59c",
   "metadata": {},
   "outputs": [
    {
     "ename": "TypeError",
     "evalue": "unsupported operand type(s) for +: 'set' and 'set'",
     "output_type": "error",
     "traceback": [
      "\u001b[1;31m---------------------------------------------------------------------------\u001b[0m",
      "\u001b[1;31mTypeError\u001b[0m                                 Traceback (most recent call last)",
      "Cell \u001b[1;32mIn[53], line 1\u001b[0m\n\u001b[1;32m----> 1\u001b[0m \u001b[43ma\u001b[49m\u001b[43m \u001b[49m\u001b[38;5;241;43m+\u001b[39;49m\u001b[43m \u001b[49m\u001b[43m{\u001b[49m\u001b[38;5;241;43m1\u001b[39;49m\u001b[43m}\u001b[49m\n",
      "\u001b[1;31mTypeError\u001b[0m: unsupported operand type(s) for +: 'set' and 'set'"
     ]
    }
   ],
   "source": [
    "a + {1}"
   ]
  },
  {
   "cell_type": "code",
   "execution_count": null,
   "id": "1b6ada0a-c165-4b52-a3b9-8cb89463ca98",
   "metadata": {},
   "outputs": [
    {
     "ename": "NameError",
     "evalue": "name 'name' is not defined",
     "output_type": "error",
     "traceback": [
      "\u001b[1;31m---------------------------------------------------------------------------\u001b[0m",
      "\u001b[1;31mNameError\u001b[0m                                 Traceback (most recent call last)",
      "Cell \u001b[1;32mIn[55], line 1\u001b[0m\n\u001b[1;32m----> 1\u001b[0m b \u001b[38;5;241m=\u001b[39m {\u001b[43mname\u001b[49m: \u001b[38;5;124m'\u001b[39m\u001b[38;5;124mnick\u001b[39m\u001b[38;5;124m'\u001b[39m, age : \u001b[38;5;241m23\u001b[39m}\n",
      "\u001b[1;31mNameError\u001b[0m: name 'name' is not defined"
     ]
    }
   ],
   "source": [
    "b = {name: 'nick', age : 23}"
   ]
  },
  {
   "cell_type": "code",
   "execution_count": null,
   "id": "b3440ba1-b8b9-4714-a268-2b3bc1d8b821",
   "metadata": {},
   "outputs": [],
   "source": [
    "b = {'name': 'nick' , 'age' : 23}"
   ]
  },
  {
   "cell_type": "code",
   "execution_count": null,
   "id": "3e947bbc-c2ae-44c1-bd25-b68b97e00b29",
   "metadata": {},
   "outputs": [
    {
     "data": {
      "text/plain": [
       "dict"
      ]
     },
     "execution_count": 57,
     "metadata": {},
     "output_type": "execute_result"
    }
   ],
   "source": [
    "type(b)"
   ]
  },
  {
   "cell_type": "code",
   "execution_count": 62,
   "id": "f5f8f32d-e0c7-4f70-bc63-da6174ba53cb",
   "metadata": {
    "tags": []
   },
   "outputs": [
    {
     "ename": "TypeError",
     "evalue": "unsupported operand type(s) for *: 'dict' and 'int'",
     "output_type": "error",
     "traceback": [
      "\u001b[1;31m---------------------------------------------------------------------------\u001b[0m",
      "\u001b[1;31mTypeError\u001b[0m                                 Traceback (most recent call last)",
      "Cell \u001b[1;32mIn[62], line 1\u001b[0m\n\u001b[1;32m----> 1\u001b[0m \u001b[43mb\u001b[49m\u001b[43m \u001b[49m\u001b[38;5;241;43m*\u001b[39;49m\u001b[43m \u001b[49m\u001b[38;5;241;43m2\u001b[39;49m\n",
      "\u001b[1;31mTypeError\u001b[0m: unsupported operand type(s) for *: 'dict' and 'int'"
     ]
    }
   ],
   "source": [
    "b * 2"
   ]
  },
  {
   "cell_type": "code",
   "execution_count": 63,
   "id": "10667874-0a9b-4ebd-97fb-1ace4d83f559",
   "metadata": {},
   "outputs": [],
   "source": [
    "c = (2,3,4,5)"
   ]
  },
  {
   "cell_type": "code",
   "execution_count": 64,
   "id": "c0f1320e-afa7-4779-bcb2-946eae2d869a",
   "metadata": {},
   "outputs": [
    {
     "data": {
      "text/plain": [
       "(2, 3, 4, 5, 2, 3, 4, 5, 2, 3, 4, 5)"
      ]
     },
     "execution_count": 64,
     "metadata": {},
     "output_type": "execute_result"
    }
   ],
   "source": [
    "c * 3"
   ]
  },
  {
   "cell_type": "code",
   "execution_count": 65,
   "id": "9b04af9f-0629-4bec-bbdd-ccd8baee7021",
   "metadata": {},
   "outputs": [
    {
     "data": {
      "text/plain": [
       "{'name': 'nick', 'age': 23}"
      ]
     },
     "execution_count": 65,
     "metadata": {},
     "output_type": "execute_result"
    }
   ],
   "source": [
    "b"
   ]
  },
  {
   "cell_type": "code",
   "execution_count": 66,
   "id": "3b07c027-749f-45c6-9d70-61ce51df8511",
   "metadata": {},
   "outputs": [
    {
     "data": {
      "text/plain": [
       "{2, 3, 4}"
      ]
     },
     "execution_count": 66,
     "metadata": {},
     "output_type": "execute_result"
    }
   ],
   "source": [
    "a"
   ]
  },
  {
   "cell_type": "code",
   "execution_count": 67,
   "id": "170ea049-3781-47ad-9d14-7a189dbcca9f",
   "metadata": {},
   "outputs": [
    {
     "ename": "TypeError",
     "evalue": "unsupported operand type(s) for *: 'set' and 'int'",
     "output_type": "error",
     "traceback": [
      "\u001b[1;31m---------------------------------------------------------------------------\u001b[0m",
      "\u001b[1;31mTypeError\u001b[0m                                 Traceback (most recent call last)",
      "Cell \u001b[1;32mIn[67], line 1\u001b[0m\n\u001b[1;32m----> 1\u001b[0m \u001b[43ma\u001b[49m\u001b[43m \u001b[49m\u001b[38;5;241;43m*\u001b[39;49m\u001b[43m \u001b[49m\u001b[38;5;241;43m3\u001b[39;49m\n",
      "\u001b[1;31mTypeError\u001b[0m: unsupported operand type(s) for *: 'set' and 'int'"
     ]
    }
   ],
   "source": [
    "a * 3"
   ]
  },
  {
   "cell_type": "code",
   "execution_count": 68,
   "id": "b44c63b2-d2a6-4590-beec-c60830dfd6ff",
   "metadata": {},
   "outputs": [
    {
     "ename": "TypeError",
     "evalue": "unsupported operand type(s) for +: 'set' and 'set'",
     "output_type": "error",
     "traceback": [
      "\u001b[1;31m---------------------------------------------------------------------------\u001b[0m",
      "\u001b[1;31mTypeError\u001b[0m                                 Traceback (most recent call last)",
      "Cell \u001b[1;32mIn[68], line 1\u001b[0m\n\u001b[1;32m----> 1\u001b[0m \u001b[43ma\u001b[49m\u001b[43m \u001b[49m\u001b[38;5;241;43m+\u001b[39;49m\u001b[43m \u001b[49m\u001b[43m{\u001b[49m\u001b[38;5;241;43m5\u001b[39;49m\u001b[43m}\u001b[49m\n",
      "\u001b[1;31mTypeError\u001b[0m: unsupported operand type(s) for +: 'set' and 'set'"
     ]
    }
   ],
   "source": [
    "a + {5}"
   ]
  },
  {
   "cell_type": "code",
   "execution_count": 69,
   "id": "481b4331-ebf8-4d77-809f-7ebdb48c6d1d",
   "metadata": {},
   "outputs": [
    {
     "data": {
      "text/plain": [
       "2"
      ]
     },
     "execution_count": 69,
     "metadata": {},
     "output_type": "execute_result"
    }
   ],
   "source": [
    "True + True"
   ]
  },
  {
   "cell_type": "code",
   "execution_count": 74,
   "id": "13ce5f20-8171-43a4-b279-eab2519af4ae",
   "metadata": {},
   "outputs": [
    {
     "name": "stdin",
     "output_type": "stream",
     "text": [
      "숫자하나를 입력해주세요 :  500\n"
     ]
    }
   ],
   "source": [
    "x = int(input('숫자하나를 입력해주세요 : '))"
   ]
  },
  {
   "cell_type": "code",
   "execution_count": 75,
   "id": "5e64b8b3-4098-46d6-98d5-19e24da10792",
   "metadata": {},
   "outputs": [],
   "source": [
    "##두 수를 입력받아 덧셈"
   ]
  },
  {
   "cell_type": "code",
   "execution_count": 98,
   "id": "dd32676e-d788-4347-b930-39a839f48b4c",
   "metadata": {},
   "outputs": [
    {
     "name": "stdin",
     "output_type": "stream",
     "text": [
      " 10\n",
      " 5\n"
     ]
    }
   ],
   "source": [
    "x = int(input())\n",
    "y = int(input())"
   ]
  },
  {
   "cell_type": "code",
   "execution_count": 89,
   "id": "962c7f22-a293-4f88-bf21-62b454b09047",
   "metadata": {},
   "outputs": [],
   "source": [
    "plus =x + y"
   ]
  },
  {
   "cell_type": "code",
   "execution_count": 90,
   "id": "d3983f46-392f-43be-9db1-2d6bce2c692d",
   "metadata": {},
   "outputs": [
    {
     "name": "stdout",
     "output_type": "stream",
     "text": [
      "36\n"
     ]
    }
   ],
   "source": [
    "print(plus)"
   ]
  },
  {
   "cell_type": "code",
   "execution_count": 91,
   "id": "2f3922b6-2da8-4944-af05-f3ece7e7d681",
   "metadata": {},
   "outputs": [],
   "source": [
    "minus = x - y"
   ]
  },
  {
   "cell_type": "code",
   "execution_count": 92,
   "id": "5657d638-52c2-490f-9d48-736d97636b95",
   "metadata": {},
   "outputs": [
    {
     "name": "stdout",
     "output_type": "stream",
     "text": [
      "-16\n"
     ]
    }
   ],
   "source": [
    "print(minus)"
   ]
  },
  {
   "cell_type": "code",
   "execution_count": 100,
   "id": "9ede2ab8-c01c-426a-aad1-55a225b6b04f",
   "metadata": {},
   "outputs": [
    {
     "data": {
      "text/plain": [
       "'hello-world!'"
      ]
     },
     "execution_count": 100,
     "metadata": {},
     "output_type": "execute_result"
    }
   ],
   "source": [
    "'-'.join(['hello', 'world!'])"
   ]
  },
  {
   "cell_type": "code",
   "execution_count": 101,
   "id": "a370d4fe-ee94-427c-b774-d213101abe5b",
   "metadata": {},
   "outputs": [],
   "source": [
    "# ''기준으로 .내장함수([파라미터])"
   ]
  },
  {
   "cell_type": "code",
   "execution_count": 102,
   "id": "4e51a41a-3243-4798-a1cf-56f712f6ff74",
   "metadata": {},
   "outputs": [
    {
     "ename": "ZeroDivisionError",
     "evalue": "division by zero",
     "output_type": "error",
     "traceback": [
      "\u001b[1;31m---------------------------------------------------------------------------\u001b[0m",
      "\u001b[1;31mZeroDivisionError\u001b[0m                         Traceback (most recent call last)",
      "Cell \u001b[1;32mIn[102], line 1\u001b[0m\n\u001b[1;32m----> 1\u001b[0m \u001b[38;5;241;43m123\u001b[39;49m\u001b[38;5;241;43m/\u001b[39;49m\u001b[38;5;241;43m0\u001b[39;49m\n",
      "\u001b[1;31mZeroDivisionError\u001b[0m: division by zero"
     ]
    }
   ],
   "source": [
    "123/0"
   ]
  },
  {
   "cell_type": "code",
   "execution_count": 103,
   "id": "7a597f93-6e08-47a0-aea7-5d20e5573cd8",
   "metadata": {},
   "outputs": [
    {
     "ename": "NameError",
     "evalue": "name 'hello' is not defined",
     "output_type": "error",
     "traceback": [
      "\u001b[1;31m---------------------------------------------------------------------------\u001b[0m",
      "\u001b[1;31mNameError\u001b[0m                                 Traceback (most recent call last)",
      "Cell \u001b[1;32mIn[103], line 1\u001b[0m\n\u001b[1;32m----> 1\u001b[0m \u001b[38;5;28mprint\u001b[39m(\u001b[43mhello\u001b[49m,python)\n",
      "\u001b[1;31mNameError\u001b[0m: name 'hello' is not defined"
     ]
    }
   ],
   "source": [
    "print(hello,python) # 파라미터에  hello라는 단어를 정의하지 않았기 때문에 문자형으로 ''를 입력하여  문자형으로 출력"
   ]
  },
  {
   "cell_type": "code",
   "execution_count": 104,
   "id": "75fee244-3253-4f5f-8d05-a56f9d5a606d",
   "metadata": {},
   "outputs": [
    {
     "ename": "SyntaxError",
     "evalue": "incomplete input (1512452771.py, line 1)",
     "output_type": "error",
     "traceback": [
      "\u001b[1;36m  Cell \u001b[1;32mIn[104], line 1\u001b[1;36m\u001b[0m\n\u001b[1;33m    print('hello, python'\u001b[0m\n\u001b[1;37m                         ^\u001b[0m\n\u001b[1;31mSyntaxError\u001b[0m\u001b[1;31m:\u001b[0m incomplete input\n"
     ]
    }
   ],
   "source": [
    "print('hello, python' # ()완성되지않은 문자열 오타"
   ]
  },
  {
   "cell_type": "code",
   "execution_count": 105,
   "id": "397e35b6-e652-4c88-a852-cfd821face8c",
   "metadata": {},
   "outputs": [
    {
     "name": "stdout",
     "output_type": "stream",
     "text": [
      "hello, python\n"
     ]
    }
   ],
   "source": [
    "print('hello, python')"
   ]
  },
  {
   "cell_type": "code",
   "execution_count": 111,
   "id": "8ae17c14-a950-4135-b3e8-bdc0817177e7",
   "metadata": {},
   "outputs": [],
   "source": [
    "#에러의 예외처리"
   ]
  },
  {
   "cell_type": "code",
   "execution_count": 112,
   "id": "f137eeba-bb47-4949-9b4d-35cf18430c8d",
   "metadata": {},
   "outputs": [
    {
     "name": "stdout",
     "output_type": "stream",
     "text": [
      "0으로 나눌수없다\n"
     ]
    }
   ],
   "source": [
    "try: \n",
    "    123/0\n",
    "except:\n",
    "    print('0으로 나눌수없다')"
   ]
  },
  {
   "cell_type": "code",
   "execution_count": 114,
   "id": "de4df017-a6f6-4a34-931d-c79b607be011",
   "metadata": {},
   "outputs": [
    {
     "ename": "SyntaxError",
     "evalue": "invalid syntax. Perhaps you forgot a comma? (2651857656.py, line 2)",
     "output_type": "error",
     "traceback": [
      "\u001b[1;36m  Cell \u001b[1;32mIn[114], line 2\u001b[1;36m\u001b[0m\n\u001b[1;33m    print('여기에 문자열을 입력할수있습니다'그런데 에러가 나는 문자열입니다)\u001b[0m\n\u001b[1;37m          ^\u001b[0m\n\u001b[1;31mSyntaxError\u001b[0m\u001b[1;31m:\u001b[0m invalid syntax. Perhaps you forgot a comma?\n"
     ]
    }
   ],
   "source": [
    "try:\n",
    "    print('여기에 문자열을 입력할수있습니다'그런데 에러가 나는 문자열입니다)\n",
    "except:\n",
    "    print('에러가 발생했다')"
   ]
  },
  {
   "cell_type": "code",
   "execution_count": 115,
   "id": "704d45f7-ce4e-47b2-9e5c-10185f5aa9a1",
   "metadata": {},
   "outputs": [
    {
     "name": "stdout",
     "output_type": "stream",
     "text": [
      "에러가 발생했다\n"
     ]
    }
   ],
   "source": [
    "try:\n",
    "    print('여기에 문자열을 입력할수있습니다',P)\n",
    "except:\n",
    "    print('에러가 발생했다')"
   ]
  },
  {
   "cell_type": "code",
   "execution_count": 117,
   "id": "ce5108d1-4589-4e67-8385-7bd94e219e2d",
   "metadata": {},
   "outputs": [],
   "source": [
    "#http://pythontutor.com/ 나중에참고 실행상황 및 변수 현황 알수있는프로그램 반복문,변수할당 이해도움됨"
   ]
  },
  {
   "cell_type": "code",
   "execution_count": 118,
   "id": "4e83e29d-a516-461a-b857-3ffe49f761fe",
   "metadata": {},
   "outputs": [],
   "source": [
    "#파이썬 정규식"
   ]
  },
  {
   "cell_type": "code",
   "execution_count": null,
   "id": "34f52c19-0759-4c05-beb6-742912ad7838",
   "metadata": {},
   "outputs": [],
   "source": []
  },
  {
   "cell_type": "code",
   "execution_count": 119,
   "id": "2b4d14bb-4e99-4a79-a5e4-bc377f63fb82",
   "metadata": {},
   "outputs": [],
   "source": [
    "# imfort 패키지 이름\n",
    "import re"
   ]
  },
  {
   "cell_type": "code",
   "execution_count": 120,
   "id": "f72957b8-cb9d-4425-99eb-ac9dca729746",
   "metadata": {},
   "outputs": [
    {
     "data": {
      "text/plain": [
       "<re.Match object; span=(0, 1), match='H'>"
      ]
     },
     "execution_count": 120,
     "metadata": {},
     "output_type": "execute_result"
    }
   ],
   "source": [
    "re.match('H', 'HELLO123%%*') # match는 시작부분을 비교 ! "
   ]
  },
  {
   "cell_type": "code",
   "execution_count": 121,
   "id": "92f74dd8-5e91-4e69-b913-7e19ccdc76ab",
   "metadata": {},
   "outputs": [
    {
     "data": {
      "text/plain": [
       "'H'"
      ]
     },
     "execution_count": 121,
     "metadata": {},
     "output_type": "execute_result"
    }
   ],
   "source": [
    "'HELLO123%%*'[0:1] #슬라이싱 N~(M-1)까지 범위를 탐색"
   ]
  },
  {
   "cell_type": "code",
   "execution_count": 135,
   "id": "e1b824ae-f9df-43e9-b905-cbc27f5b4938",
   "metadata": {},
   "outputs": [
    {
     "data": {
      "text/plain": [
       "'H'"
      ]
     },
     "execution_count": 135,
     "metadata": {},
     "output_type": "execute_result"
    }
   ],
   "source": [
    "'HELLO123%%*'[0] # 인덱싱 N번째 자리를 탐색"
   ]
  },
  {
   "cell_type": "code",
   "execution_count": 141,
   "id": "976d98c4-d22f-40e1-ba77-cbfbeb4dcc18",
   "metadata": {},
   "outputs": [],
   "source": [
    "re.match('E', 'HELLO123%%*') # 시작부분이 H가 아니여서 안나옴"
   ]
  },
  {
   "cell_type": "code",
   "execution_count": 143,
   "id": "b504177b-5768-4306-98c7-500966bcba7f",
   "metadata": {},
   "outputs": [
    {
     "data": {
      "text/plain": [
       "<re.Match object; span=(1, 2), match='E'>"
      ]
     },
     "execution_count": 143,
     "metadata": {},
     "output_type": "execute_result"
    }
   ],
   "source": [
    "re.search('E', 'HELLO123%%*') # search 찾아줌 "
   ]
  },
  {
   "cell_type": "code",
   "execution_count": 144,
   "id": "8ddd8ea9-ec84-4d46-9688-b33a71348d39",
   "metadata": {},
   "outputs": [
    {
     "data": {
      "text/plain": [
       "<re.Match object; span=(0, 10), match='HELLO123%%'>"
      ]
     },
     "execution_count": 144,
     "metadata": {},
     "output_type": "execute_result"
    }
   ],
   "source": [
    "re.match('HELLO123%%*','HELLO123%%*')"
   ]
  },
  {
   "cell_type": "code",
   "execution_count": 145,
   "id": "5f8873ff-7848-4f68-9933-bb80efc28e41",
   "metadata": {},
   "outputs": [
    {
     "data": {
      "text/plain": [
       "['%', '%']"
      ]
     },
     "execution_count": 145,
     "metadata": {},
     "output_type": "execute_result"
    }
   ],
   "source": [
    "re.findall('%', 'HELLO123%%*')"
   ]
  },
  {
   "cell_type": "code",
   "execution_count": null,
   "id": "4ac62d8f-12bb-47a7-9a6a-c56b09734ba3",
   "metadata": {},
   "outputs": [],
   "source": []
  },
  {
   "cell_type": "code",
   "execution_count": 146,
   "id": "0f86059c-7cdc-487c-9c16-dcbcf52ef683",
   "metadata": {},
   "outputs": [],
   "source": [
    "str1 = 'hello~ 000000python' #000000을 123456 으로 "
   ]
  },
  {
   "cell_type": "code",
   "execution_count": 176,
   "id": "3a9f5d9f-da9e-4886-92e0-20ef36b43949",
   "metadata": {},
   "outputs": [
    {
     "data": {
      "text/plain": [
       "'hello~ 123456python'"
      ]
     },
     "execution_count": 176,
     "metadata": {},
     "output_type": "execute_result"
    }
   ],
   "source": [
    "re.sub('\\d\\d\\d\\d\\d\\d',\"123456\",str1) "
   ]
  },
  {
   "cell_type": "code",
   "execution_count": 168,
   "id": "3131b41a-6cbd-461b-9a87-a2ba6e3274ac",
   "metadata": {},
   "outputs": [],
   "source": [
    "str2 = 'hello~ 433464python'"
   ]
  },
  {
   "cell_type": "code",
   "execution_count": 175,
   "id": "0a6170c8-de10-4ded-b386-a880ca408408",
   "metadata": {},
   "outputs": [
    {
     "data": {
      "text/plain": [
       "'hello~ 123456python'"
      ]
     },
     "execution_count": 175,
     "metadata": {},
     "output_type": "execute_result"
    }
   ],
   "source": [
    "re.sub('[0-9]+','123456',str2)"
   ]
  },
  {
   "cell_type": "code",
   "execution_count": 180,
   "id": "d69f079f-6547-4f0d-bf19-d25bd556e198",
   "metadata": {},
   "outputs": [],
   "source": [
    "str3 = 'hello~ 363-939python' #XXX를 임의의 숫자로 리턴 "
   ]
  },
  {
   "cell_type": "code",
   "execution_count": 179,
   "id": "6e458a16-33a1-4e31-bfca-f542afac31a5",
   "metadata": {
    "collapsed": true,
    "jupyter": {
     "outputs_hidden": true
    },
    "tags": []
   },
   "outputs": [
    {
     "data": {
      "text/plain": [
       "['363', '939']"
      ]
     },
     "execution_count": 179,
     "metadata": {},
     "output_type": "execute_result"
    }
   ],
   "source": [
    "re.findall('\\d\\d\\d',str3)"
   ]
  },
  {
   "cell_type": "code",
   "execution_count": 181,
   "id": "c59f2958-44ab-4f69-bde1-1497fe4253e8",
   "metadata": {},
   "outputs": [],
   "source": [
    "# \\n 리눅스,맥 줄바꿈//"
   ]
  },
  {
   "cell_type": "code",
   "execution_count": 188,
   "id": "a402373e-2410-45f3-b350-7724986a7ad7",
   "metadata": {},
   "outputs": [],
   "source": [
    "x ='''안녕 \n",
    "줄바꿈 \n",
    "했는데'''"
   ]
  },
  {
   "cell_type": "code",
   "execution_count": 185,
   "id": "d6333c55-b3a1-4689-82ae-0ff9fb1f36f8",
   "metadata": {},
   "outputs": [],
   "source": [
    "y = '안녕 \\n줄바꿈 \\n했는데'"
   ]
  },
  {
   "cell_type": "code",
   "execution_count": 189,
   "id": "63afa9e5-f95f-4739-9621-f2d23ca80237",
   "metadata": {},
   "outputs": [
    {
     "name": "stdout",
     "output_type": "stream",
     "text": [
      "안녕 \n",
      "줄바꿈 \n",
      "했는데\n"
     ]
    }
   ],
   "source": [
    "print(x)"
   ]
  },
  {
   "cell_type": "code",
   "execution_count": 187,
   "id": "d576bcb1-a462-4a7e-8873-e2efe52e2ed7",
   "metadata": {},
   "outputs": [
    {
     "name": "stdout",
     "output_type": "stream",
     "text": [
      "안녕 \n",
      "줄바꿈 \n",
      "했는데\n"
     ]
    }
   ],
   "source": [
    "print(y)"
   ]
  },
  {
   "cell_type": "code",
   "execution_count": 190,
   "id": "3c3e3619-7903-48b1-9bd0-d910aded070f",
   "metadata": {},
   "outputs": [
    {
     "data": {
      "text/plain": [
       "'안녕 줄바꿈 했는데'"
      ]
     },
     "execution_count": 190,
     "metadata": {},
     "output_type": "execute_result"
    }
   ],
   "source": [
    "re.sub('\\n','',y)"
   ]
  },
  {
   "cell_type": "code",
   "execution_count": null,
   "id": "798fc5d4-4fe6-4f41-a09e-477e028a3f56",
   "metadata": {},
   "outputs": [],
   "source": [
    "#이스케이프문자 시스템이 내보내는 문자같은거 받아낼때 사용 "
   ]
  },
  {
   "cell_type": "code",
   "execution_count": 191,
   "id": "0afb5236-0840-4a0c-a0ff-c9485f3ae1d2",
   "metadata": {},
   "outputs": [
    {
     "data": {
      "text/plain": [
       "'문자열을\\t입력'"
      ]
     },
     "execution_count": 191,
     "metadata": {},
     "output_type": "execute_result"
    }
   ],
   "source": [
    "'문자열을\\t입력'"
   ]
  },
  {
   "cell_type": "code",
   "execution_count": 192,
   "id": "d97cf630-d23f-470e-bfe6-d45292a2a6f8",
   "metadata": {},
   "outputs": [
    {
     "name": "stdout",
     "output_type": "stream",
     "text": [
      "문자열을\t입력\n"
     ]
    }
   ],
   "source": [
    "print('문자열을\\t입력')"
   ]
  },
  {
   "cell_type": "code",
   "execution_count": 194,
   "id": "e1d8a595-3e83-4e17-97a3-6a91361390fd",
   "metadata": {},
   "outputs": [
    {
     "data": {
      "text/plain": [
       "'따옴표를 입력했는데, 이 안에 /\"따옴표/\"를 또넣고싶어'"
      ]
     },
     "execution_count": 194,
     "metadata": {},
     "output_type": "execute_result"
    }
   ],
   "source": [
    "'따옴표를 입력했는데, 이 안에 /\"따옴표/\"를 또넣고싶어'"
   ]
  },
  {
   "cell_type": "code",
   "execution_count": 197,
   "id": "025ca276-1b1c-44d8-841b-2adc93c8d673",
   "metadata": {},
   "outputs": [
    {
     "name": "stdout",
     "output_type": "stream",
     "text": [
      "따옴표를 입력했는데, 이 안에 '따옴표'를 또넣고싶어\n"
     ]
    }
   ],
   "source": [
    "print('따옴표를 입력했는데, 이 안에 \\'따옴표\\'를 또넣고싶어')"
   ]
  },
  {
   "cell_type": "code",
   "execution_count": 199,
   "id": "fca1ac54-4ccf-4872-9bb2-eecb82e80505",
   "metadata": {},
   "outputs": [
    {
     "name": "stdout",
     "output_type": "stream",
     "text": [
      "파이썬\t이스케이프\t문자\t실습\n"
     ]
    }
   ],
   "source": [
    "print('파이썬\\t이스케이프\\t문자\\t실습')"
   ]
  },
  {
   "cell_type": "code",
   "execution_count": 200,
   "id": "127b3180-9b10-40bc-8487-24010ce35b85",
   "metadata": {},
   "outputs": [
    {
     "name": "stdout",
     "output_type": "stream",
     "text": [
      "파이썬\n",
      "이스케\n",
      "이프문\n",
      "자실습\n"
     ]
    }
   ],
   "source": [
    "print('파이썬\\n이스케\\n이프문\\n자실습')"
   ]
  },
  {
   "cell_type": "code",
   "execution_count": 201,
   "id": "61eeec30-ff9d-4e2b-83ca-f53f81b46523",
   "metadata": {},
   "outputs": [],
   "source": [
    "n='파이썬이스케이프문자실습'"
   ]
  },
  {
   "cell_type": "code",
   "execution_count": 202,
   "id": "143e1dbc-6b9d-48c2-99c9-1eb4e699b863",
   "metadata": {},
   "outputs": [
    {
     "data": {
      "text/plain": [
       "'파이썬\\n이스케\\n이프문\\n자실습'"
      ]
     },
     "execution_count": 202,
     "metadata": {},
     "output_type": "execute_result"
    }
   ],
   "source": [
    "re.sub('[3]','\\n',n)"
   ]
  },
  {
   "cell_type": "code",
   "execution_count": 203,
   "id": "273d6f3e-44f2-45ae-9f8c-83356eacfd3b",
   "metadata": {},
   "outputs": [
    {
     "name": "stdout",
     "output_type": "stream",
     "text": [
      "파이썬\n",
      "이스케\n",
      "이프문\n",
      "자실습\n"
     ]
    }
   ],
   "source": [
    "print(re.sub('[3]','\\n',n))"
   ]
  },
  {
   "cell_type": "code",
   "execution_count": 5,
   "id": "e8d83fdd-88f6-4df1-8940-abd24dff7510",
   "metadata": {},
   "outputs": [],
   "source": [
    "txt = '파이썬오늘은\\t문자열을\\t배웠고,\\t그\\t지식을\\t이용해서\\t문자열\\t수정을\\t해\\t봅시다.\\n파이썬'"
   ]
  },
  {
   "cell_type": "code",
   "execution_count": 5,
   "id": "866ceaaa-38d4-409c-aa32-49496ce0c755",
   "metadata": {},
   "outputs": [
    {
     "data": {
      "text/plain": [
       "\"\\n1.모든 한글만 추출한다\\n2.콤마를 기준으로 줄바꿈을 해 문자열을 출력한다\\n3.'파이썬'이라는 글자를 지워 txt3변수에 저장한다\\n4.출력 예시와 같이 출력한다\\n\\n[출력예시]\\n오늘은% 문자열을% 배웠고,%\\n그% 지식을% 이용해서% 문자열% 수정을% 해% 봅시다.\""
      ]
     },
     "execution_count": 5,
     "metadata": {},
     "output_type": "execute_result"
    }
   ],
   "source": [
    "'''\n",
    "1.모든 한글만 추출한다\n",
    "2.콤마를 기준으로 줄바꿈을 해 문자열을 출력한다\n",
    "3.'파이썬'이라는 글자를 지워 txt3변수에 저장한다\n",
    "4.출력 예시와 같이 출력한다\n",
    "\n",
    "[출력예시]\n",
    "오늘은% 문자열을% 배웠고,%\n",
    "그% 지식을% 이용해서% 문자열% 수정을% 해% 봅시다.'''"
   ]
  },
  {
   "cell_type": "code",
   "execution_count": 8,
   "id": "ff5f0157",
   "metadata": {},
   "outputs": [],
   "source": [
    "import re"
   ]
  },
  {
   "cell_type": "code",
   "execution_count": 12,
   "id": "e462e205-e1f2-42a0-a8be-5c6e30db04a5",
   "metadata": {
    "scrolled": true
   },
   "outputs": [
    {
     "data": {
      "text/plain": [
       "'이썬오늘은\\t문자열을\\t배웠고,\\t그\\t지식을\\t이용해서\\t문자열\\t수정을\\t해\\t봅시다.\\n파이썬'"
      ]
     },
     "execution_count": 12,
     "metadata": {},
     "output_type": "execute_result"
    }
   ],
   "source": [
    "re.sub('^[가-힣]','',txt) #1 "
   ]
  },
  {
   "cell_type": "code",
   "execution_count": 7,
   "id": "19891b74",
   "metadata": {},
   "outputs": [
    {
     "data": {
      "text/plain": [
       "'오늘은\\t문자열을\\t배웠고,\\t그\\t지식을\\t이용해서\\t문자열\\t수정을\\t해\\t봅시다.\\n'"
      ]
     },
     "execution_count": 7,
     "metadata": {},
     "output_type": "execute_result"
    }
   ],
   "source": [
    "txt.replace('파이썬', '')  "
   ]
  },
  {
   "cell_type": "code",
   "execution_count": 14,
   "id": "d5a00d0e",
   "metadata": {},
   "outputs": [
    {
     "name": "stdout",
     "output_type": "stream",
     "text": [
      "파이썬오늘은문자열을배웠고그지식을이용해서문자열수정을해봅시다파이썬\n"
     ]
    }
   ],
   "source": [
    "print(re.sub('[^가-힣]','',txt))"
   ]
  },
  {
   "cell_type": "code",
   "execution_count": 9,
   "id": "af1b4ab9",
   "metadata": {},
   "outputs": [
    {
     "data": {
      "text/plain": [
       "['파',\n",
       " '이',\n",
       " '썬',\n",
       " '오',\n",
       " '늘',\n",
       " '은',\n",
       " '문',\n",
       " '자',\n",
       " '열',\n",
       " '을',\n",
       " '배',\n",
       " '웠',\n",
       " '고',\n",
       " '그',\n",
       " '지',\n",
       " '식',\n",
       " '을',\n",
       " '이',\n",
       " '용',\n",
       " '해',\n",
       " '서',\n",
       " '문',\n",
       " '자',\n",
       " '열',\n",
       " '수',\n",
       " '정',\n",
       " '을',\n",
       " '해',\n",
       " '봅',\n",
       " '시',\n",
       " '다',\n",
       " '파',\n",
       " '이',\n",
       " '썬']"
      ]
     },
     "execution_count": 9,
     "metadata": {},
     "output_type": "execute_result"
    }
   ],
   "source": [
    "re.findall('[가-힣]', txt)"
   ]
  },
  {
   "cell_type": "code",
   "execution_count": 250,
   "id": "f584e71f-7123-45d6-905f-10d80e372a49",
   "metadata": {},
   "outputs": [
    {
     "name": "stdout",
     "output_type": "stream",
     "text": [
      "파이썬오늘은\t문자열을\t배웠고,\n",
      "\t그\t지식을\t이용해서\t문자열\t수정을\t해\t봅시다.\n",
      "파이썬\n"
     ]
    }
   ],
   "source": [
    "txt2 = re.sub(',',',\\n',txt)\n",
    "print(txt2) #2"
   ]
  },
  {
   "cell_type": "code",
   "execution_count": 232,
   "id": "71601a44-6805-4dab-aca6-074b14ce2d37",
   "metadata": {
    "scrolled": true
   },
   "outputs": [
    {
     "name": "stdout",
     "output_type": "stream",
     "text": [
      "오늘은\t문자열을\t배웠고,\t그\t지식을\t이용해서\t문자열\t수정을\t해\t봅시다.\n",
      "\n"
     ]
    }
   ],
   "source": [
    "txt3 = re.sub('파이썬','',txt) #3\n",
    "print(txt3)"
   ]
  },
  {
   "cell_type": "code",
   "execution_count": 246,
   "id": "ad69b978-2231-4dd2-ba91-df4e74da0742",
   "metadata": {},
   "outputs": [
    {
     "name": "stdout",
     "output_type": "stream",
     "text": [
      "오늘은% 문자열을% 배웠고,% 그% 지식을% 이용해서% 문자열% 수정을% 해% 봅시다.\n",
      "\n"
     ]
    }
   ],
   "source": [
    "txt4 = re.sub('\\t','% ',txt3) #4 \n",
    "print(txt4)"
   ]
  },
  {
   "cell_type": "code",
   "execution_count": 247,
   "id": "3305c6aa-69eb-4712-acd7-a286c6e76b93",
   "metadata": {},
   "outputs": [
    {
     "name": "stdout",
     "output_type": "stream",
     "text": [
      "오늘은% 문자열을% 배웠고,%\n",
      " 그% 지식을% 이용해서% 문자열% 수정을% 해% 봅시다.\n",
      "\n"
     ]
    }
   ],
   "source": [
    "txt5 = re.sub(',%',',%\\n',txt4)\n",
    "print(txt5)"
   ]
  },
  {
   "cell_type": "code",
   "execution_count": 16,
   "id": "a5ee67d2-17c8-4ab0-a4cb-1f50f6231d73",
   "metadata": {},
   "outputs": [],
   "source": [
    "ren2 = 'aelkaevaleknaevpenrrn_135^^@@!#$67laf김jsdvo리기구비penvlaie라야rbna;_320290602345flkovbanfldl#dla38%'"
   ]
  },
  {
   "cell_type": "code",
   "execution_count": 17,
   "id": "17eb4aa4-aa4d-4b8d-b237-041407bf02bd",
   "metadata": {},
   "outputs": [
    {
     "data": {
      "text/plain": [
       "<re.Match object; span=(27, 29), match='@@'>"
      ]
     },
     "execution_count": 17,
     "metadata": {},
     "output_type": "execute_result"
    }
   ],
   "source": [
    "re.search('@@',ren2)"
   ]
  },
  {
   "cell_type": "code",
   "execution_count": 18,
   "id": "6e945dcf-f0ef-4132-b104-262be5d1a3c3",
   "metadata": {},
   "outputs": [
    {
     "data": {
      "text/plain": [
       "'aelkaevaleknaevpenrrn_135^^@@!#$67laf김jsdvo리기구비penvlaie라야rbna;_320290602345flkovbanfldl#dla38%'"
      ]
     },
     "execution_count": 18,
     "metadata": {},
     "output_type": "execute_result"
    }
   ],
   "source": [
    "re.sub('^[가-힣]','#',ren2)"
   ]
  },
  {
   "cell_type": "code",
   "execution_count": 19,
   "id": "919bf70a-0d29-421f-ac93-17e153007d1d",
   "metadata": {},
   "outputs": [
    {
     "name": "stdout",
     "output_type": "stream",
     "text": [
      "\n",
      "elk\n",
      "ev\n",
      "lekn\n",
      "evpenrrn_135^^@@!#$67l\n",
      "f김jsdvo리기구비penvl\n",
      "ie라야rbn\n",
      ";_320290602345flkovb\n",
      "nfldl#dl\n",
      "38%\n"
     ]
    }
   ],
   "source": [
    "print(re.sub('a','\\n',ren2))"
   ]
  },
  {
   "cell_type": "code",
   "execution_count": 283,
   "id": "6bb71182-a48b-402d-8062-11df99f7edb5",
   "metadata": {},
   "outputs": [
    {
     "data": {
      "text/plain": [
       "'바보_135^^@@!#$67l바보김jsdvo리기구비penvl바보라야rbna;_320290602345flkovb바보#dla38%'"
      ]
     },
     "execution_count": 283,
     "metadata": {},
     "output_type": "execute_result"
    }
   ],
   "source": [
    "re.sub('a[a-z]+','바보',ren2)"
   ]
  },
  {
   "cell_type": "code",
   "execution_count": 284,
   "id": "6c39deea-366a-4cc5-ba63-54bc3fa47825",
   "metadata": {},
   "outputs": [
    {
     "data": {
      "text/plain": [
       "'aelkae여기leknae여기enrrn_135^^@@!#$67laf김jsd여기리기구비pen여기aie라야rbna;_320290602345flko여기anfldl#dla38%'"
      ]
     },
     "execution_count": 284,
     "metadata": {},
     "output_type": "execute_result"
    }
   ],
   "source": [
    "re.sub('v.','여기',ren2)"
   ]
  },
  {
   "cell_type": "code",
   "execution_count": 287,
   "id": "0978a925-90c0-4b34-bda5-998976169921",
   "metadata": {},
   "outputs": [
    {
     "data": {
      "text/plain": [
       "'a이런'"
      ]
     },
     "execution_count": 287,
     "metadata": {},
     "output_type": "execute_result"
    }
   ],
   "source": [
    "re.sub('[e|y].*','이런',ren2)"
   ]
  },
  {
   "cell_type": "code",
   "execution_count": null,
   "id": "c3736abb-5336-406a-b691-0080b1f6ccd6",
   "metadata": {},
   "outputs": [],
   "source": []
  }
 ],
 "metadata": {
  "kernelspec": {
   "display_name": "Python 3 (ipykernel)",
   "language": "python",
   "name": "python3"
  },
  "language_info": {
   "codemirror_mode": {
    "name": "ipython",
    "version": 3
   },
   "file_extension": ".py",
   "mimetype": "text/x-python",
   "name": "python",
   "nbconvert_exporter": "python",
   "pygments_lexer": "ipython3",
   "version": "3.10.9"
  }
 },
 "nbformat": 4,
 "nbformat_minor": 5
}
